{
 "cells": [
  {
   "attachments": {},
   "cell_type": "markdown",
   "id": "7d74531b",
   "metadata": {},
   "source": [
    "## The Sparks Foundation - Data Science & Business Analytics Internship\n",
    "\n",
    "### Task 1 - Prediction using Supervised ML"
   ]
  },
  {
   "attachments": {},
   "cell_type": "markdown",
   "id": "bf0c5579",
   "metadata": {
    "vscode": {
     "languageId": "plaintext"
    }
   },
   "source": [
    "This model uses Linear Regression to predict the percentage of a student based on number of hours studied. "
   ]
  },
  {
   "attachments": {},
   "cell_type": "markdown",
   "id": "9b3c2871",
   "metadata": {},
   "source": [
    "Steps:\n",
    "\n",
    "1. Defining the question\n",
    "2. Collecting data\n",
    "3. Cleaning Data\n",
    "4. Visualizing Data\n",
    "5. Build and Training Model\n",
    "7. Making Predictions\n",
    "8. Evaluating the Model"
   ]
  },
  {
   "attachments": {},
   "cell_type": "markdown",
   "id": "a0c9d15f",
   "metadata": {},
   "source": [
    "### Defining the Question"
   ]
  },
  {
   "attachments": {},
   "cell_type": "markdown",
   "id": "165cbf51",
   "metadata": {},
   "source": [
    "This model focuses on finding the relationship between the efforts of a student with the result s/he achieves. It is pretty straightforward and the goal is to train a model to predict this relationship. The very first step of any data science problem is to figure out a well defined question. In this case, the question is: \n",
    "\n",
    "**How much does the number of hours studied influence the percentage of a student?**"
   ]
  }
 ],
 "metadata": {
  "kernelspec": {
   "display_name": "Python 3 (ipykernel)",
   "language": "python",
   "name": "python3"
  },
  "language_info": {
   "codemirror_mode": {
    "name": "ipython",
    "version": 3
   },
   "file_extension": ".py",
   "mimetype": "text/x-python",
   "name": "python",
   "nbconvert_exporter": "python",
   "pygments_lexer": "ipython3",
   "version": "3.10.6"
  }
 },
 "nbformat": 4,
 "nbformat_minor": 5
}
